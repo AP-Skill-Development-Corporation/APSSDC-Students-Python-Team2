{
 "cells": [
  {
   "cell_type": "markdown",
   "metadata": {},
   "source": [
    "### Types of methods\n",
    "- instance method\n",
    "- class method\n",
    "- static method\n",
    "\n",
    "### Types of variables\n",
    "- object level variables/instance variables\n",
    "- static variables/class level variables\n",
    "- local variables"
   ]
  },
  {
   "cell_type": "code",
   "execution_count": 13,
   "metadata": {},
   "outputs": [
    {
     "name": "stdout",
     "output_type": "stream",
     "text": [
      "Name: venu\n",
      "Empid: 28\n",
      "Age: 16\n",
      "None\n",
      "Name of the company apssdc ap\n"
     ]
    }
   ],
   "source": [
    "class employee:\n",
    "    cname=\"apssdc\" #static variable/class level variables\n",
    "    cname1=\"ap\"\n",
    "    def __init__(self,name,empid,age):  #object level varibles\n",
    "        self.name=name\n",
    "        self.empid=empid\n",
    "        self.age=age\n",
    "    def display(self):  #object method/instance method\n",
    "        print(\"Name:\",self.name)\n",
    "        print(\"Empid:\",self.empid)\n",
    "        print(\"Age:\",self.age)\n",
    "    \n",
    "    @classmethod\n",
    "    def name(cls):   #cls is class level variable and name is classmethod\n",
    "        print(\"Name of the company\",cls.cname,cls.cname1)\n",
    "    \n",
    "    \n",
    "    def div(a,b):   #a,b are called as local variables. \n",
    "        return a//b #div method called as static method\n",
    "    \n",
    "\n",
    "a=employee(\"venu\",28,16)  \n",
    "print(a.display())\n",
    "\n",
    "employee.div(2,3)   #calling an static method\n",
    "employee.name()     # calling an class method\n",
    "\n",
    "\n",
    "        \n",
    "    \n",
    "    "
   ]
  },
  {
   "cell_type": "markdown",
   "metadata": {},
   "source": [
    "#### Inheritance(multiple,multilevel inheritance)\n"
   ]
  },
  {
   "cell_type": "code",
   "execution_count": 18,
   "metadata": {},
   "outputs": [
    {
     "name": "stdout",
     "output_type": "stream",
     "text": [
      "three got executed\n",
      "one got executed\n"
     ]
    }
   ],
   "source": [
    "#single inheritance\n",
    "class A:  #parent class,super class\n",
    "    def one():\n",
    "        print(\"one got executed\")\n",
    "    def two():\n",
    "        print(\"two got executed\")\n",
    "class B(A):  #child class,subclass\n",
    "    def three():\n",
    "        print(\"three got executed\")\n",
    "    def four():\n",
    "        print(\"four got ececuted\")\n",
    "\n",
    "B.three()\n",
    "B.one()\n"
   ]
  },
  {
   "cell_type": "code",
   "execution_count": 21,
   "metadata": {},
   "outputs": [
    {
     "name": "stdout",
     "output_type": "stream",
     "text": [
      "three got executed\n",
      "one got executed\n",
      "two got executed\n"
     ]
    }
   ],
   "source": [
    "#multiple inheritance\n",
    "class A:\n",
    "    def one():\n",
    "        print(\"one got executed\")\n",
    "class B:\n",
    "    def two():\n",
    "        print(\"two got executed\")\n",
    "class C(A,B):  #method resolution order(left to right)\n",
    "    def three():\n",
    "        print(\"three got executed\")\n",
    "C.three()\n",
    "C.one()\n",
    "C.two()"
   ]
  },
  {
   "cell_type": "code",
   "execution_count": 56,
   "metadata": {},
   "outputs": [
    {
     "name": "stdout",
     "output_type": "stream",
     "text": [
      "four class method exceuted\n",
      "thrid class method executed\n",
      "first  class method executed \n",
      "second class method executed \n"
     ]
    }
   ],
   "source": [
    "# multi level inheritance\n",
    "class first:\n",
    "    def a():\n",
    "        print(\"first  class method executed \")\n",
    "class second(first):   #a,b \n",
    "    def b():\n",
    "        print(\"second class method executed \")\n",
    "class three(second):  #a,b,c are the features\n",
    "    def c():\n",
    "        print(\"thrid class method executed\")\n",
    "class four(three):  #a,b,c,d are the features\n",
    "    def d():\n",
    "        print(\"four class method exceuted\")\n",
    "four.d()\n",
    "four.c()\n",
    "four.a()\n",
    "four.b()"
   ]
  },
  {
   "cell_type": "code",
   "execution_count": null,
   "metadata": {},
   "outputs": [],
   "source": [
    "\n"
   ]
  },
  {
   "cell_type": "code",
   "execution_count": 31,
   "metadata": {},
   "outputs": [
    {
     "name": "stdout",
     "output_type": "stream",
     "text": [
      "Help on class super in module builtins:\n",
      "\n",
      "class super(object)\n",
      " |  super() -> same as super(__class__, <first argument>)\n",
      " |  super(type) -> unbound super object\n",
      " |  super(type, obj) -> bound super object; requires isinstance(obj, type)\n",
      " |  super(type, type2) -> bound super object; requires issubclass(type2, type)\n",
      " |  Typical use to call a cooperative superclass method:\n",
      " |  class C(B):\n",
      " |      def meth(self, arg):\n",
      " |          super().meth(arg)\n",
      " |  This works for class methods too:\n",
      " |  class C(B):\n",
      " |      @classmethod\n",
      " |      def cmeth(cls, arg):\n",
      " |          super().cmeth(arg)\n",
      " |  \n",
      " |  Methods defined here:\n",
      " |  \n",
      " |  __get__(self, instance, owner, /)\n",
      " |      Return an attribute of instance, which is of type owner.\n",
      " |  \n",
      " |  __getattribute__(self, name, /)\n",
      " |      Return getattr(self, name).\n",
      " |  \n",
      " |  __init__(self, /, *args, **kwargs)\n",
      " |      Initialize self.  See help(type(self)) for accurate signature.\n",
      " |  \n",
      " |  __repr__(self, /)\n",
      " |      Return repr(self).\n",
      " |  \n",
      " |  ----------------------------------------------------------------------\n",
      " |  Static methods defined here:\n",
      " |  \n",
      " |  __new__(*args, **kwargs) from builtins.type\n",
      " |      Create and return a new object.  See help(type) for accurate signature.\n",
      " |  \n",
      " |  ----------------------------------------------------------------------\n",
      " |  Data descriptors defined here:\n",
      " |  \n",
      " |  __self__\n",
      " |      the instance invoking super(); may be None\n",
      " |  \n",
      " |  __self_class__\n",
      " |      the type of the instance invoking super(); may be None\n",
      " |  \n",
      " |  __thisclass__\n",
      " |      the class invoking super()\n",
      "\n"
     ]
    }
   ],
   "source": [
    "help(super)"
   ]
  },
  {
   "cell_type": "code",
   "execution_count": 40,
   "metadata": {},
   "outputs": [],
   "source": [
    "import module1"
   ]
  },
  {
   "cell_type": "code",
   "execution_count": 41,
   "metadata": {},
   "outputs": [
    {
     "data": {
      "text/plain": [
       "['__builtins__',\n",
       " '__cached__',\n",
       " '__doc__',\n",
       " '__file__',\n",
       " '__loader__',\n",
       " '__name__',\n",
       " '__package__',\n",
       " '__spec__',\n",
       " 'first',\n",
       " 'four',\n",
       " 'second',\n",
       " 'three']"
      ]
     },
     "execution_count": 41,
     "metadata": {},
     "output_type": "execute_result"
    }
   ],
   "source": [
    "dir(module1)"
   ]
  },
  {
   "cell_type": "code",
   "execution_count": 54,
   "metadata": {},
   "outputs": [
    {
     "name": "stdout",
     "output_type": "stream",
     "text": [
      "first  class method executed \n",
      "second class method executed \n"
     ]
    }
   ],
   "source": [
    "#filename.classname  #to create an object in the other file\n",
    "obj=module1.first\n",
    "obj.a()\n",
    "obj1=module1.second\n",
    "\n",
    "obj1.b()"
   ]
  },
  {
   "cell_type": "code",
   "execution_count": null,
   "metadata": {},
   "outputs": [],
   "source": [
    "class first():\n",
    "    "
   ]
  }
 ],
 "metadata": {
  "kernelspec": {
   "display_name": "Python 3",
   "language": "python",
   "name": "python3"
  },
  "language_info": {
   "codemirror_mode": {
    "name": "ipython",
    "version": 3
   },
   "file_extension": ".py",
   "mimetype": "text/x-python",
   "name": "python",
   "nbconvert_exporter": "python",
   "pygments_lexer": "ipython3",
   "version": "3.7.3"
  }
 },
 "nbformat": 4,
 "nbformat_minor": 2
}
