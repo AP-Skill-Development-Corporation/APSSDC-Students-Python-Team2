{
 "cells": [
  {
   "cell_type": "markdown",
   "metadata": {},
   "source": [
    "#### Object oreinted programming ans systems(OOPS)\n",
    "- class\n",
    "- object \n",
    "- reference variable"
   ]
  },
  {
   "cell_type": "raw",
   "metadata": {},
   "source": [
    "class classname:   \n",
    "    statements"
   ]
  },
  {
   "cell_type": "code",
   "execution_count": 5,
   "metadata": {},
   "outputs": [
    {
     "data": {
      "text/plain": [
       "<__main__.student at 0x1f456e70048>"
      ]
     },
     "execution_count": 5,
     "metadata": {},
     "output_type": "execute_result"
    }
   ],
   "source": [
    "class student:   #class\n",
    "    '''this is the sample class created'''  #documented string\n",
    "    \n",
    "    pass\n",
    "a=student()  #object\n",
    "b=student()\n",
    "a  #refernece variable"
   ]
  },
  {
   "cell_type": "code",
   "execution_count": 3,
   "metadata": {},
   "outputs": [
    {
     "data": {
      "text/plain": [
       "'this is the sample class created'"
      ]
     },
     "execution_count": 3,
     "metadata": {},
     "output_type": "execute_result"
    }
   ],
   "source": [
    "a.__doc__"
   ]
  },
  {
   "cell_type": "code",
   "execution_count": 6,
   "metadata": {},
   "outputs": [
    {
     "data": {
      "text/plain": [
       "<__main__.student at 0x1f456e4ef98>"
      ]
     },
     "execution_count": 6,
     "metadata": {},
     "output_type": "execute_result"
    }
   ],
   "source": [
    "b"
   ]
  },
  {
   "cell_type": "markdown",
   "metadata": {},
   "source": [
    "#### constructor (the method which we write for object varibles)\n",
    "- to intialize and declare variables\n",
    "- method name should be __init__\n",
    "- whenever we are creating/calling an object the constructor will get executed\n",
    "- a class should have only one constructor"
   ]
  },
  {
   "cell_type": "code",
   "execution_count": 9,
   "metadata": {},
   "outputs": [
    {
     "name": "stdout",
     "output_type": "stream",
     "text": [
      "constructor executed\n"
     ]
    },
    {
     "data": {
      "text/plain": [
       "<__main__.student at 0x1f456f172e8>"
      ]
     },
     "execution_count": 9,
     "metadata": {},
     "output_type": "execute_result"
    }
   ],
   "source": [
    "class student:  # class\n",
    "    def __init__(self,name,rollno,branch):  #constructoe\n",
    "        self.name=name\n",
    "        self.rollno=rollno\n",
    "        self.branch=branch\n",
    "        print(\"constructor executed\")\n",
    "        \n",
    "a=student('apssdc',12,\"vij\")   #object\n",
    "b=student(\"sdc\",13,'tadepalli')\n",
    "a"
   ]
  },
  {
   "cell_type": "code",
   "execution_count": 10,
   "metadata": {},
   "outputs": [
    {
     "data": {
      "text/plain": [
       "'apssdc'"
      ]
     },
     "execution_count": 10,
     "metadata": {},
     "output_type": "execute_result"
    }
   ],
   "source": [
    "a.name"
   ]
  },
  {
   "cell_type": "code",
   "execution_count": 11,
   "metadata": {},
   "outputs": [
    {
     "data": {
      "text/plain": [
       "12"
      ]
     },
     "execution_count": 11,
     "metadata": {},
     "output_type": "execute_result"
    }
   ],
   "source": [
    "a.rollno"
   ]
  },
  {
   "cell_type": "code",
   "execution_count": 12,
   "metadata": {},
   "outputs": [
    {
     "data": {
      "text/plain": [
       "'vij'"
      ]
     },
     "execution_count": 12,
     "metadata": {},
     "output_type": "execute_result"
    }
   ],
   "source": [
    "a.branch"
   ]
  },
  {
   "cell_type": "code",
   "execution_count": 14,
   "metadata": {},
   "outputs": [
    {
     "name": "stdout",
     "output_type": "stream",
     "text": [
      "constructor 2 executed\n"
     ]
    }
   ],
   "source": [
    "class student:  # class\n",
    "    def __init__(self,name,rollno,branch):  #constructoe\n",
    "        self.name=name\n",
    "        self.rollno=rollno\n",
    "        self.branch=branch\n",
    "        print(\"constructor executed\")\n",
    "    def __init__(self):\n",
    "        print(\"constructor 2 executed\")\n",
    "a=student()"
   ]
  },
  {
   "cell_type": "markdown",
   "metadata": {},
   "source": [
    "#### Self\n",
    "- self is a reference variable which always points to the current object\n",
    "- we need not provide any self arugumnet while we are creating an object\n",
    "- the first argument for the constructor should be self\n",
    "- within the class to refer the current object we use self variable\n"
   ]
  },
  {
   "cell_type": "code",
   "execution_count": 30,
   "metadata": {},
   "outputs": [
    {
     "name": "stdout",
     "output_type": "stream",
     "text": [
      "2148941766048\n",
      "2148941766048\n",
      "corona\n",
      "16\n",
      "china\n"
     ]
    }
   ],
   "source": [
    "class student:  # class\n",
    "    def __init__(self,name,rollno,branch):#constructor\n",
    "        print(id(self))\n",
    "        self.name=name\n",
    "        self.rollno=rollno\n",
    "        self.branch=branch\n",
    "    def display(self):\n",
    "        print(self.name)\n",
    "        print(self.rollno)\n",
    "        print(self.branch)\n",
    "    \n",
    "        \n",
    "a=student(\"corona\",16,'china')\n",
    "#b=student(\"covid19\",19,'wuhan')\n",
    "a.name\n",
    "print(id(a))\n",
    "#print(a.name)\n",
    "a.display()"
   ]
  },
  {
   "cell_type": "code",
   "execution_count": 29,
   "metadata": {},
   "outputs": [
    {
     "data": {
      "text/plain": [
       "-1"
      ]
     },
     "execution_count": 29,
     "metadata": {},
     "output_type": "execute_result"
    }
   ],
   "source": [
    "class calc:\n",
    "    def __init__(self,num1,num2):\n",
    "        self.a=num1\n",
    "        self.b=num2\n",
    "    def add(self):\n",
    "        return self.a+self.b\n",
    "    def sub(self):\n",
    "        return self.a-self.b\n",
    "    def mul(self):\n",
    "        return self.a*self.b\n",
    "obj=calc(2,3)\n",
    "\n",
    "obj.add()\n",
    "obj.sub()"
   ]
  },
  {
   "cell_type": "code",
   "execution_count": null,
   "metadata": {},
   "outputs": [],
   "source": [
    "# create a class with the employee name,age,employeeid,mobilenum\n",
    "# method display all the details of the employee\n",
    "        name:\n",
    "        id: \n",
    "        age:\n",
    "        mobilenum:\n",
    "            "
   ]
  }
 ],
 "metadata": {
  "kernelspec": {
   "display_name": "Python 3",
   "language": "python",
   "name": "python3"
  },
  "language_info": {
   "codemirror_mode": {
    "name": "ipython",
    "version": 3
   },
   "file_extension": ".py",
   "mimetype": "text/x-python",
   "name": "python",
   "nbconvert_exporter": "python",
   "pygments_lexer": "ipython3",
   "version": "3.7.3"
  }
 },
 "nbformat": 4,
 "nbformat_minor": 2
}
