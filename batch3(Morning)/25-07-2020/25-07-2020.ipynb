{
 "cells": [
  {
   "cell_type": "markdown",
   "metadata": {},
   "source": [
    "#### Mobile number validation\n",
    "- should start with 6,7,8,9\n",
    "- length of the num is 10\n",
    "- 10 digit number can start with +91 or 0\n",
    "- "
   ]
  },
  {
   "cell_type": "code",
   "execution_count": 9,
   "metadata": {},
   "outputs": [],
   "source": [
    "import re\n",
    "pattern=\"^[6789]\\d{9}$\"    #10 digit mobile number\n",
    "re.match(num,\"5963674890\")"
   ]
  },
  {
   "cell_type": "code",
   "execution_count": 10,
   "metadata": {},
   "outputs": [
    {
     "name": "stdout",
     "output_type": "stream",
     "text": [
      "9876543210\n",
      "valid\n"
     ]
    }
   ],
   "source": [
    "phno=input()\n",
    "if re.match(pattern,phno):\n",
    "    print(\"valid\")\n",
    "else:\n",
    "    print(\"enter a valid mobile number\")"
   ]
  },
  {
   "cell_type": "code",
   "execution_count": 12,
   "metadata": {},
   "outputs": [
    {
     "data": {
      "text/plain": [
       "<re.Match object; span=(0, 13), match='+919652371044'>"
      ]
     },
     "execution_count": 12,
     "metadata": {},
     "output_type": "execute_result"
    }
   ],
   "source": [
    "pattern=\"^[+][9][1][6789][0-9]{9}$\"\n",
    "re.search(pattern,\"+919652371044\")"
   ]
  },
  {
   "cell_type": "code",
   "execution_count": 13,
   "metadata": {},
   "outputs": [
    {
     "data": {
      "text/plain": [
       "<re.Match object; span=(0, 11), match='09652371044'>"
      ]
     },
     "execution_count": 13,
     "metadata": {},
     "output_type": "execute_result"
    }
   ],
   "source": [
    "pattern=\"^[0][6789][0-9]{9}$\"\n",
    "re.search(pattern,\"09652371044\")"
   ]
  },
  {
   "cell_type": "code",
   "execution_count": 2,
   "metadata": {},
   "outputs": [
    {
     "name": "stdout",
     "output_type": "stream",
     "text": [
      "07894561230\n",
      "valid\n"
     ]
    }
   ],
   "source": [
    "import re\n",
    "pattern=\"^[6789]\\d{9}$|^[+][9][1][6789][0-9]{9}$|^[0][6789][0-9]{9}$\"\n",
    "phno=input()\n",
    "if re.match(pattern,phno):\n",
    "    print(\"valid\")\n",
    "else:\n",
    "    print(\"enter a valid mobile number\")"
   ]
  },
  {
   "cell_type": "markdown",
   "metadata": {},
   "source": [
    "#### Email validation(username@domain)(--gmail.com)\n",
    "- username is not case sensitive\n",
    "- username should be in the range of 8-25\n",
    "- username should start with characters or digits\n",
    "- username should not end with special characters\n"
   ]
  },
  {
   "cell_type": "code",
   "execution_count": 6,
   "metadata": {},
   "outputs": [
    {
     "data": {
      "text/plain": [
       "<re.Match object; span=(0, 22), match='Koribilliraj@gmail.com'>"
      ]
     },
     "execution_count": 6,
     "metadata": {},
     "output_type": "execute_result"
    }
   ],
   "source": [
    "pattern=\"^[a-zA-Z0-9][0-9A-Za-z_.\\W]{7,24}[a-zA-Z0-9][@][g][m][a][i][l][.][c][o][m]$\"\n",
    "re.match(pattern,\"Koribilliraj@gmail.com\")"
   ]
  },
  {
   "cell_type": "code",
   "execution_count": null,
   "metadata": {},
   "outputs": [],
   "source": [
    "# roll number validation\n",
    "# 19X1A0494\n"
   ]
  },
  {
   "cell_type": "markdown",
   "metadata": {},
   "source": [
    "#### File handling\n",
    "- read\n",
    "- write\n",
    "- append"
   ]
  },
  {
   "cell_type": "code",
   "execution_count": 8,
   "metadata": {},
   "outputs": [
    {
     "data": {
      "text/plain": [
       "<_io.TextIOWrapper name='sample1.txt' mode='r' encoding='cp1252'>"
      ]
     },
     "execution_count": 8,
     "metadata": {},
     "output_type": "execute_result"
    }
   ],
   "source": [
    "f=open(\"sample1.txt\")\n",
    "f"
   ]
  },
  {
   "cell_type": "code",
   "execution_count": 10,
   "metadata": {},
   "outputs": [
    {
     "name": "stdout",
     "output_type": "stream",
     "text": [
      "<_io.TextIOWrapper name='sample1.txt' mode='r' encoding='cp1252'>\n"
     ]
    }
   ],
   "source": [
    "f=open(\"sample1.txt\",'r')\n",
    "print(f)\n",
    "f.close()"
   ]
  },
  {
   "cell_type": "code",
   "execution_count": 11,
   "metadata": {},
   "outputs": [
    {
     "name": "stdout",
     "output_type": "stream",
     "text": [
      "<_io.TextIOWrapper name='sample1.txt' mode='r' encoding='cp1252'>\n"
     ]
    }
   ],
   "source": [
    "with open(\"sample1.txt\",\"r\") as f:\n",
    "    print(f)\n",
    "    \n",
    "    "
   ]
  },
  {
   "cell_type": "code",
   "execution_count": 19,
   "metadata": {},
   "outputs": [
    {
     "name": "stdout",
     "output_type": "stream",
     "text": [
      "As the covid 19\n",
      "cases are increasing  \n",
      "day by day,Please\n",
      "stay home\n",
      "stay safe\n",
      "45789\n",
      "45.235\n",
      "\n"
     ]
    }
   ],
   "source": [
    "with open(\"sample1.txt\",\"r\") as f:\n",
    "    print(f.read())  # read the data present in your file\n",
    "    \n",
    "    "
   ]
  },
  {
   "cell_type": "code",
   "execution_count": 20,
   "metadata": {},
   "outputs": [
    {
     "data": {
      "text/plain": [
       "'As the covid 19\\ncases are increasing  \\nday by day,Please\\nstay home\\nstay safe\\n45789\\n45.235\\n'"
      ]
     },
     "execution_count": 20,
     "metadata": {},
     "output_type": "execute_result"
    }
   ],
   "source": [
    "f=open(\"sample1.txt\",\"r\")\n",
    "f.read()  #reads all data from the file as a single string\n",
    "#f.close()"
   ]
  },
  {
   "cell_type": "code",
   "execution_count": 17,
   "metadata": {},
   "outputs": [
    {
     "name": "stdout",
     "output_type": "stream",
     "text": [
      "As th\n",
      "e c\n"
     ]
    }
   ],
   "source": [
    "with open(\"sample1.txt\",\"r\") as f:\n",
    "    print(f.read(5))\n",
    "    print(f.read(3))"
   ]
  },
  {
   "cell_type": "code",
   "execution_count": 18,
   "metadata": {},
   "outputs": [
    {
     "name": "stdout",
     "output_type": "stream",
     "text": [
      "As the covid 19\n",
      "\n",
      "cases are increasing  \n",
      "\n"
     ]
    }
   ],
   "source": [
    "with open(\"sample1.txt\",\"r\") as f:\n",
    "    print(f.readline())  # reads a single from the file\n",
    "    print(f.readline())   #reads the second line\n",
    "    "
   ]
  },
  {
   "cell_type": "code",
   "execution_count": 21,
   "metadata": {},
   "outputs": [
    {
     "name": "stdout",
     "output_type": "stream",
     "text": [
      "['As the covid 19\\n', 'cases are increasing  \\n', 'day by day,Please\\n', 'stay home\\n', 'stay safe\\n', '45789\\n', '45.235\\n']\n"
     ]
    }
   ],
   "source": [
    "with open(\"sample1.txt\",\"r\") as f:\n",
    "    print(f.readlines())  # reads all the lines in the form of list\n",
    "   "
   ]
  },
  {
   "cell_type": "code",
   "execution_count": 24,
   "metadata": {},
   "outputs": [],
   "source": [
    "with open(\"sample2.txt\",\"w\") as f:\n",
    "    f.write(\"apssdc python online class for all the branches\\nall the engineering colleges have registered\")\n",
    "    "
   ]
  },
  {
   "cell_type": "code",
   "execution_count": 25,
   "metadata": {},
   "outputs": [],
   "source": [
    "with open(\"sample2.txt\",\"w\") as f:\n",
    "    f.write(\"\\nits good that students are attending the classes regurarly\")\n",
    "    "
   ]
  },
  {
   "cell_type": "code",
   "execution_count": 26,
   "metadata": {},
   "outputs": [],
   "source": [
    "with open(\"sample2.txt\",\"a\") as f:\n",
    "    f.write(\"\\nits good that students are attending the classes regurarly\")\n",
    "    "
   ]
  },
  {
   "cell_type": "code",
   "execution_count": 27,
   "metadata": {},
   "outputs": [],
   "source": [
    "with open(\"sample2.txt\",'a') as f:\n",
    "    f.writelines(['\\nfirstline\\n','secondline\\n',\"thirdline\\n\"])"
   ]
  },
  {
   "cell_type": "code",
   "execution_count": 32,
   "metadata": {},
   "outputs": [
    {
     "name": "stdout",
     "output_type": "stream",
     "text": [
      "<_io.TextIOWrapper name='sample3.txt' mode='x' encoding='cp1252'>\n"
     ]
    }
   ],
   "source": [
    "#x--exclusive\n",
    "with open(\"sample3.txt\",'x') as f:\n",
    "    print(f)"
   ]
  },
  {
   "cell_type": "code",
   "execution_count": null,
   "metadata": {},
   "outputs": [],
   "source": [
    "#r+ ----read and write\n",
    "#w+  ----write and read"
   ]
  },
  {
   "cell_type": "code",
   "execution_count": 34,
   "metadata": {},
   "outputs": [
    {
     "name": "stdout",
     "output_type": "stream",
     "text": [
      "line count: 7\n"
     ]
    }
   ],
   "source": [
    "#line count  from sample1.txt\n",
    "with open(\"sample1.txt\",'r') as f:\n",
    "    print(\"line count:\",len(f.readlines()))\n",
    "    "
   ]
  },
  {
   "cell_type": "code",
   "execution_count": 35,
   "metadata": {},
   "outputs": [
    {
     "name": "stdout",
     "output_type": "stream",
     "text": [
      "enter fine namesample1.txt\n",
      "7\n"
     ]
    }
   ],
   "source": [
    "a=input(\"enter fine name\")\n",
    "count=0\n",
    "with open(a,\"r\")as f:\n",
    "    for i in f.readlines():\n",
    "        count+=1\n",
    "print(count)        \n"
   ]
  },
  {
   "cell_type": "code",
   "execution_count": 41,
   "metadata": {},
   "outputs": [
    {
     "name": "stdout",
     "output_type": "stream",
     "text": [
      "['As', 'the', 'covid', '19', 'cases', 'are', 'increasing', 'day', 'by', 'day,Please', 'stay', 'home', 'stay', 'safe', '45789', '45.235']\n",
      "word count: 16\n"
     ]
    }
   ],
   "source": [
    "### word count\n",
    "with open(\"sample1.txt\",'r') as f:\n",
    "    a=f.read()\n",
    "    b=a.split()\n",
    "    print(b)\n",
    "    print(\"word count:\",len(b))"
   ]
  },
  {
   "cell_type": "code",
   "execution_count": null,
   "metadata": {},
   "outputs": [],
   "source": [
    "# you should generate 10 random numbers in file and \n",
    "# find out the average of thaat 10 random numbers "
   ]
  }
 ],
 "metadata": {
  "kernelspec": {
   "display_name": "Python 3",
   "language": "python",
   "name": "python3"
  },
  "language_info": {
   "codemirror_mode": {
    "name": "ipython",
    "version": 3
   },
   "file_extension": ".py",
   "mimetype": "text/x-python",
   "name": "python",
   "nbconvert_exporter": "python",
   "pygments_lexer": "ipython3",
   "version": "3.7.3"
  }
 },
 "nbformat": 4,
 "nbformat_minor": 2
}
