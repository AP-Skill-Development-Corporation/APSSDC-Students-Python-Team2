{
 "cells": [
  {
   "cell_type": "raw",
   "metadata": {},
   "source": [
    "3.Given 2 int values, return True if one is negative and \n",
    "one is positive. Except if the third parameter is True, \n",
    "then return True only if both are negative.\n",
    "■pos_neg(1, -1, False) → True\n",
    "■pos_neg(-1, 1, False) → True\n",
    "■pos_neg(-4, -5, True) → True"
   ]
  },
  {
   "cell_type": "raw",
   "metadata": {},
   "source": [
    "23,45,False--false\n",
    "-23,-45,False--false\n",
    "-4,5,True---false\n",
    "4,5,True---false"
   ]
  },
  {
   "cell_type": "markdown",
   "metadata": {},
   "source": [
    "10 of 100 or 200.\n",
    "90 to 110 or 190 to 210"
   ]
  },
  {
   "cell_type": "markdown",
   "metadata": {},
   "source": [
    "#### Loops(for,while)"
   ]
  },
  {
   "cell_type": "raw",
   "metadata": {},
   "source": [
    "for iter in iterable:\n",
    "    statements"
   ]
  },
  {
   "cell_type": "code",
   "execution_count": 11,
   "metadata": {},
   "outputs": [
    {
     "name": "stdout",
     "output_type": "stream",
     "text": [
      "1\n",
      "2\n",
      "3\n",
      "4\n"
     ]
    }
   ],
   "source": [
    "for var in range(1,5):\n",
    "    print(var)\n",
    "    \n",
    "# var-1--->1\n",
    "# var-2-->2\n",
    "# var-3----3\n",
    "# var-4---4"
   ]
  },
  {
   "cell_type": "code",
   "execution_count": 17,
   "metadata": {},
   "outputs": [
    {
     "name": "stdout",
     "output_type": "stream",
     "text": [
      "python\tpython\tpython\tpython\tpython\t"
     ]
    }
   ],
   "source": [
    "for i in range(5):\n",
    "    print(\"python\",end=\"\\t\")\n",
    "# i=0,python\n",
    "# i=1,python\n",
    "# i=2,python\n",
    "# i=3,python\n",
    "# i=4,python"
   ]
  },
  {
   "cell_type": "code",
   "execution_count": 22,
   "metadata": {},
   "outputs": [
    {
     "name": "stdout",
     "output_type": "stream",
     "text": [
      "10,9,8,7,6,5,4,3,2,1,"
     ]
    }
   ],
   "source": [
    "#10 to 1--10,9,8,7,6,5,4,3,2,1,\n",
    "for i in range(10,0,-1):\n",
    "    print(i,end=\",\")\n",
    "    \n",
    "    "
   ]
  },
  {
   "cell_type": "code",
   "execution_count": 25,
   "metadata": {},
   "outputs": [
    {
     "name": "stdout",
     "output_type": "stream",
     "text": [
      "30,30,30\n"
     ]
    }
   ],
   "source": [
    "a=b=c=30\n",
    "print(a,b,c,sep=\",\")"
   ]
  },
  {
   "cell_type": "code",
   "execution_count": 27,
   "metadata": {},
   "outputs": [
    {
     "name": "stdout",
     "output_type": "stream",
     "text": [
      "45\n",
      "50\n",
      "45 46 47 48 49 50 "
     ]
    }
   ],
   "source": [
    "# print the numbers in the given range inclusively\n",
    "#45,50----45,46,47,48,49,50\n",
    "lb=int(input())\n",
    "ub=int(input())\n",
    "for i in range(lb,ub+1):\n",
    "    print(i,end=\" \")"
   ]
  },
  {
   "cell_type": "code",
   "execution_count": 30,
   "metadata": {},
   "outputs": [
    {
     "name": "stdout",
     "output_type": "stream",
     "text": [
      "enter the lower bound40\n",
      "enter the upper bound50\n",
      "41 43 45 47 49 "
     ]
    }
   ],
   "source": [
    "# print the numbers alternate numbers b/w the given range exclusively\n",
    "#40,50---41,43,45,47,49\n",
    "lb=int(input(\"enter the lower bound\"))\n",
    "ub=int(input(\"enter the upper bound\"))\n",
    "for i in range(lb+1,ub,2):\n",
    "    print(i,end=\" \")"
   ]
  },
  {
   "cell_type": "code",
   "execution_count": 29,
   "metadata": {},
   "outputs": [
    {
     "name": "stdout",
     "output_type": "stream",
     "text": [
      "45\n",
      "46\n",
      "47\n",
      "48\n",
      "49\n"
     ]
    }
   ],
   "source": [
    "for j in range(45,50,1):\n",
    "    print(j)\n",
    "# j=45,---45\n",
    "# j=46,---46\n",
    "# j=47,---47\n",
    "# j=48,---48\n",
    "# j=49,---49"
   ]
  },
  {
   "cell_type": "code",
   "execution_count": 35,
   "metadata": {},
   "outputs": [
    {
     "name": "stdout",
     "output_type": "stream",
     "text": [
      "55\n"
     ]
    }
   ],
   "source": [
    "# write a python program to print sum of first 10 natural numbers\n",
    "#1+2+3+4+5+6+7+8+9+10=55\n",
    "\n",
    "s=0\n",
    "for i in range(1,11):\n",
    "    s=s+i\n",
    "print(s)"
   ]
  },
  {
   "cell_type": "raw",
   "metadata": {},
   "source": [
    "#### While \n",
    "while condition:  \n",
    "    statements"
   ]
  },
  {
   "cell_type": "code",
   "execution_count": 1,
   "metadata": {},
   "outputs": [
    {
     "name": "stdout",
     "output_type": "stream",
     "text": [
      "1 2 3 4 5 6 7 8 9 10 "
     ]
    }
   ],
   "source": [
    "i=1\n",
    "while i<=10:\n",
    "    print(i,end=\" \")\n",
    "    i+=1\n",
    " "
   ]
  },
  {
   "cell_type": "code",
   "execution_count": 2,
   "metadata": {},
   "outputs": [
    {
     "name": "stdout",
     "output_type": "stream",
     "text": [
      "10 9 8 7 6 5 4 3 2 1 "
     ]
    }
   ],
   "source": [
    "i=10\n",
    "while i>=1:\n",
    "    print(i,end=\" \")\n",
    "    i-=1"
   ]
  },
  {
   "cell_type": "code",
   "execution_count": null,
   "metadata": {},
   "outputs": [],
   "source": [
    "while True:\n",
    "    print(1)"
   ]
  },
  {
   "cell_type": "markdown",
   "metadata": {},
   "source": [
    "### break,continue and pass"
   ]
  },
  {
   "cell_type": "code",
   "execution_count": 5,
   "metadata": {},
   "outputs": [
    {
     "name": "stdout",
     "output_type": "stream",
     "text": [
      "1 2 3 4 5 6 7 8 9 10 11 12 13 14 15 16 17 18 19 20 21 22 23 24 25 26 27 28 29 30 31 32 33 34 35 36 37 38 39 40 41 42 43 44 45 46 47 48 49 50 51 52 53 54 55 56 57 58 59 60 61 62 63 64 65 66 67 68 69 70 71 72 73 74 75 76 77 78 79 80 81 82 83 84 85 86 87 88 89 90 91 92 93 94 95 96 97 98 99 "
     ]
    }
   ],
   "source": [
    "#continue\n",
    "#1,100\n",
    "for i in range(1,100):\n",
    "    if i%3==0:\n",
    "        continue\n",
    "    print(i,end=\" \")\n"
   ]
  },
  {
   "cell_type": "code",
   "execution_count": 3,
   "metadata": {},
   "outputs": [
    {
     "name": "stdout",
     "output_type": "stream",
     "text": [
      "78\n",
      "45\n",
      "89\n",
      "56\n",
      "100\n",
      "4528\n",
      "54646546\n",
      "3\n"
     ]
    }
   ],
   "source": [
    "# read the  inputs from the user.executed should be stopped when the \n",
    "#user enter a number 3 \n",
    "while 1:\n",
    "    a=int(input())\n",
    "    if a==3:\n",
    "        break"
   ]
  },
  {
   "cell_type": "code",
   "execution_count": 6,
   "metadata": {},
   "outputs": [],
   "source": [
    "for i in range(5):\n",
    "    pass"
   ]
  },
  {
   "cell_type": "code",
   "execution_count": null,
   "metadata": {},
   "outputs": [],
   "source": [
    "a=int(input())\n",
    "while a!=3:\n",
    "      continue"
   ]
  },
  {
   "cell_type": "code",
   "execution_count": null,
   "metadata": {},
   "outputs": [],
   "source": [
    "#write a python program in python to find the factors of given number\n",
    "#write a python program in python to find the product of natural numbers \n",
    "#in the given range inculsively"
   ]
  }
 ],
 "metadata": {
  "kernelspec": {
   "display_name": "Python 3",
   "language": "python",
   "name": "python3"
  },
  "language_info": {
   "codemirror_mode": {
    "name": "ipython",
    "version": 3
   },
   "file_extension": ".py",
   "mimetype": "text/x-python",
   "name": "python",
   "nbconvert_exporter": "python",
   "pygments_lexer": "ipython3",
   "version": "3.7.3"
  }
 },
 "nbformat": 4,
 "nbformat_minor": 2
}
