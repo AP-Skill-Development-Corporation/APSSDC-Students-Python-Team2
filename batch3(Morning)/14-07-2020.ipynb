{
 "cells": [
  {
   "cell_type": "markdown",
   "metadata": {},
   "source": [
    "# Welcome to python online class\n",
    "## Welcome to python online class\n",
    "### Welcome to python online class\n",
    "#### Welcome to python online class\n",
    "##### Welcome to python online class\n",
    "###### Welcome to python online class"
   ]
  },
  {
   "cell_type": "markdown",
   "metadata": {},
   "source": [
    "**bold**  \n",
    "__boldletters__  \n",
    "*italic*    \n",
    "***bold and italic***   \n",
    "This is the first line.   \n",
    "second line.  \n",
    "third line. \n",
    "\n",
    "this is the paragrapgh.firstline  \n",
    "jnjfnvjnvkefm.  "
   ]
  },
  {
   "cell_type": "markdown",
   "metadata": {},
   "source": [
    "- one \n",
    "- two\n",
    "- jnrfdn\n",
    "    * jnwnef\n",
    "    * nfkedwnfkdw\n",
    "    * knfkrdnfk\n",
    "    * fnkdn\n",
    "        - jjkn\n",
    "        - jnknkn\n",
    "        - kfvkfvfk\n",
    "- kefnkdnf\n",
    "+ knfkdnfk"
   ]
  },
  {
   "cell_type": "markdown",
   "metadata": {},
   "source": [
    "1. kwfmkmwf\n",
    "2. jnfdkdnfk\n",
    "3. kfnknf\n",
    "4. kdmfkfdm    \n",
    "    A. fnvkfnvkf    \n",
    "    B. jnkdwnkdn   \n",
    "    C. kjfkjfkl    \n",
    "        a. jfnvkfmv\n",
    "        b. mnvmnm\n",
    "        c. nkdnvlkn"
   ]
  },
  {
   "cell_type": "markdown",
   "metadata": {},
   "source": [
    "### Comments in python\n",
    "- programmer readable information\n",
    "- comment doesn't execute\n",
    "- it is represented using symbol '#'"
   ]
  },
  {
   "cell_type": "code",
   "execution_count": 5,
   "metadata": {},
   "outputs": [
    {
     "data": {
      "text/plain": [
       "'multiple line\\ncomments'"
      ]
     },
     "execution_count": 5,
     "metadata": {},
     "output_type": "execute_result"
    }
   ],
   "source": [
    "#single line comment\n",
    "'''multiple line\n",
    "comments'''"
   ]
  },
  {
   "cell_type": "markdown",
   "metadata": {},
   "source": [
    "#### Variable \n",
    "- camelCase\n",
    "- characters\n",
    "- should not include spaces and special characters\n",
    "- should not delcare variable with only numbers and sholud not start with num\n",
    "- online_course(can include underscore and digits)\n",
    "- should not use keywords as variable names"
   ]
  },
  {
   "cell_type": "code",
   "execution_count": 9,
   "metadata": {},
   "outputs": [
    {
     "data": {
      "text/plain": [
       "10"
      ]
     },
     "execution_count": 9,
     "metadata": {},
     "output_type": "execute_result"
    }
   ],
   "source": [
    "a=10\n",
    "b=20"
   ]
  },
  {
   "cell_type": "code",
   "execution_count": 11,
   "metadata": {},
   "outputs": [
    {
     "data": {
      "text/plain": [
       "'python'"
      ]
     },
     "execution_count": 11,
     "metadata": {},
     "output_type": "execute_result"
    }
   ],
   "source": [
    "onlineClass='python'\n",
    "onlineClass"
   ]
  },
  {
   "cell_type": "code",
   "execution_count": 12,
   "metadata": {},
   "outputs": [
    {
     "data": {
      "text/plain": [
       "458"
      ]
     },
     "execution_count": 12,
     "metadata": {},
     "output_type": "execute_result"
    }
   ],
   "source": [
    "abc123=458\n",
    "abc123"
   ]
  },
  {
   "cell_type": "code",
   "execution_count": 13,
   "metadata": {},
   "outputs": [
    {
     "data": {
      "text/plain": [
       "789"
      ]
     },
     "execution_count": 13,
     "metadata": {},
     "output_type": "execute_result"
    }
   ],
   "source": [
    "_avc=789\n",
    "_avc"
   ]
  },
  {
   "cell_type": "code",
   "execution_count": 14,
   "metadata": {},
   "outputs": [
    {
     "data": {
      "text/plain": [
       "100"
      ]
     },
     "execution_count": 14,
     "metadata": {},
     "output_type": "execute_result"
    }
   ],
   "source": [
    "PYTHON=100\n",
    "PYTHON"
   ]
  },
  {
   "cell_type": "code",
   "execution_count": 15,
   "metadata": {},
   "outputs": [
    {
     "data": {
      "text/plain": [
       "200"
      ]
     },
     "execution_count": 15,
     "metadata": {},
     "output_type": "execute_result"
    }
   ],
   "source": [
    "PYthon=200\n",
    "PYthon"
   ]
  },
  {
   "cell_type": "markdown",
   "metadata": {},
   "source": [
    "### Datatypes\n",
    "- int (all integers)\n",
    "- float (numbers with decimal points)\n",
    "- string (all the characters and group of characters)\n",
    "- complex  (number with real and imaginary part)\n",
    "- bool (True ,False)"
   ]
  },
  {
   "cell_type": "code",
   "execution_count": 16,
   "metadata": {},
   "outputs": [],
   "source": [
    "a=-100\n",
    "b=\"python123456\"\n",
    "c='apssdc'\n",
    "e='p'\n",
    "d='1+2j'\n",
    "f=1+2j\n",
    "s=45.8"
   ]
  },
  {
   "cell_type": "code",
   "execution_count": 18,
   "metadata": {},
   "outputs": [
    {
     "name": "stdout",
     "output_type": "stream",
     "text": [
      "<class 'int'>\n",
      "<class 'str'>\n",
      "<class 'str'>\n",
      "<class 'str'>\n",
      "<class 'str'>\n",
      "<class 'complex'>\n",
      "<class 'float'>\n"
     ]
    }
   ],
   "source": [
    "print(type(a))\n",
    "print(type(b))\n",
    "print(type(c))\n",
    "print(type(d))\n",
    "print(type(e))\n",
    "print(type(f))\n",
    "print(type(s))"
   ]
  },
  {
   "cell_type": "code",
   "execution_count": null,
   "metadata": {},
   "outputs": [],
   "source": []
  }
 ],
 "metadata": {
  "kernelspec": {
   "display_name": "Python 3",
   "language": "python",
   "name": "python3"
  },
  "language_info": {
   "codemirror_mode": {
    "name": "ipython",
    "version": 3
   },
   "file_extension": ".py",
   "mimetype": "text/x-python",
   "name": "python",
   "nbconvert_exporter": "python",
   "pygments_lexer": "ipython3",
   "version": "3.7.3"
  }
 },
 "nbformat": 4,
 "nbformat_minor": 2
}
