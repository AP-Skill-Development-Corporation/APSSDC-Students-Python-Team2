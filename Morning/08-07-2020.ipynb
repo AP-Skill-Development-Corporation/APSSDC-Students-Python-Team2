{
 "cells": [
  {
   "cell_type": "markdown",
   "metadata": {},
   "source": [
    "# Good Morning All"
   ]
  },
  {
   "cell_type": "markdown",
   "metadata": {},
   "source": [
    "# Inheritance"
   ]
  },
  {
   "cell_type": "markdown",
   "metadata": {},
   "source": [
    "## single\n",
    "## multiple\n",
    "## multilevel\n",
    "## hierarchical\n",
    "## hybrid"
   ]
  },
  {
   "cell_type": "code",
   "execution_count": 6,
   "metadata": {},
   "outputs": [
    {
     "name": "stdout",
     "output_type": "stream",
     "text": [
      "i am constructor from derived class\n",
      "i am constructor from base class\n",
      "i am method from base class\n",
      "10\n",
      "i am constructor from base class\n"
     ]
    }
   ],
   "source": [
    "# single\n",
    "# A --> B\n",
    "# class derivedclassname(baseclassname):\n",
    "class A: # base class\n",
    "    def __init__(self,name):\n",
    "        self.name = name\n",
    "        print('i am constructor from base class')\n",
    "    def fun(self):\n",
    "        z = 10\n",
    "        self.z = 10\n",
    "        print('i am method from base class')\n",
    "class B(A): # derived class\n",
    "    def __init__(self,name):\n",
    "        print('i am constructor from derived class')\n",
    "        super().__init__(name)\n",
    "    def fun1(self):\n",
    "        print(self.z)\n",
    "        super().__init__('hello')\n",
    "    \n",
    "x = B('happy')\n",
    "x.fun()\n",
    "x.fun1()"
   ]
  },
  {
   "cell_type": "code",
   "execution_count": 7,
   "metadata": {},
   "outputs": [
    {
     "name": "stdout",
     "output_type": "stream",
     "text": [
      "i am constructor from base class\n"
     ]
    }
   ],
   "source": [
    "class A: # base class\n",
    "    def __init__(self):\n",
    "        print('i am constructor from base class')\n",
    "class B(A): # derived class\n",
    "    pass\n",
    "x = B()"
   ]
  },
  {
   "cell_type": "code",
   "execution_count": 11,
   "metadata": {},
   "outputs": [
    {
     "name": "stdout",
     "output_type": "stream",
     "text": [
      "i am from class-A\n",
      "i am from class-B\n",
      "i am from class-A\n",
      "i am from class-C\n"
     ]
    }
   ],
   "source": [
    "# Hierarchical\n",
    "# A-->B , A-->C\n",
    "class A:# base class\n",
    "    def fun(self):\n",
    "        print('i am from class-A')\n",
    "class B(A): # derived class\n",
    "    def fun1(self):\n",
    "        print('i am from class-B')\n",
    "class C(A): # derived class\n",
    "    def fun2(self):\n",
    "        print('i am from class-C')\n",
    "b = B()\n",
    "c = C()\n",
    "b.fun()\n",
    "b.fun1()\n",
    "c.fun()\n",
    "c.fun2()"
   ]
  },
  {
   "cell_type": "code",
   "execution_count": 15,
   "metadata": {},
   "outputs": [
    {
     "name": "stdout",
     "output_type": "stream",
     "text": [
      "i am from class-c\n",
      "i am from class-B\n",
      "i am from class-A\n",
      "i am from class-A\n"
     ]
    }
   ],
   "source": [
    "# multilevel\n",
    "# A-->B-->C...\n",
    "class A:\n",
    "    def fun(self):\n",
    "        print('i am from class-A')\n",
    "class B(A):\n",
    "    def fun1(self):\n",
    "        print('i am from class-B')\n",
    "class C(B):\n",
    "    def fun2(self):\n",
    "        print('i am from class-c')\n",
    "c = C()\n",
    "c.fun2()\n",
    "c.fun1()\n",
    "c.fun()\n",
    "B().fun()"
   ]
  },
  {
   "cell_type": "code",
   "execution_count": 16,
   "metadata": {},
   "outputs": [
    {
     "name": "stdout",
     "output_type": "stream",
     "text": [
      "i am from class-A\n",
      "i am from class-B\n",
      "i am from class-C\n"
     ]
    }
   ],
   "source": [
    "# multiple\n",
    "# A , B --> C\n",
    "class A:\n",
    "    def fun(self):\n",
    "        print('i am from class-A')\n",
    "class B:\n",
    "    def fun1(self):\n",
    "        print('i am from class-B')\n",
    "class C(A,B):\n",
    "    def fun2(self):\n",
    "        print('i am from class-C')\n",
    "c = C()\n",
    "c.fun()\n",
    "c.fun1()\n",
    "c.fun2()"
   ]
  },
  {
   "cell_type": "code",
   "execution_count": 17,
   "metadata": {},
   "outputs": [
    {
     "name": "stdout",
     "output_type": "stream",
     "text": [
      "i am from class-A\n",
      "i am from class-B\n",
      "i am from class-C\n",
      "i am from class-A\n",
      "i am from class-D\n"
     ]
    }
   ],
   "source": [
    "# Hybrid\n",
    "class A:\n",
    "    def fun(self):\n",
    "        print('i am from class-A')\n",
    "class B(A):\n",
    "    def fun1(self):\n",
    "        print('i am from class-B')\n",
    "class C(B):\n",
    "    def fun2(self):\n",
    "        print('i am from class-C')\n",
    "class D(A):\n",
    "    def fun3(self):\n",
    "        print('i am from class-D')\n",
    "c = C()\n",
    "c.fun()\n",
    "c.fun1()\n",
    "c.fun2()\n",
    "d = D()\n",
    "d.fun()\n",
    "d.fun3()"
   ]
  },
  {
   "cell_type": "code",
   "execution_count": 1,
   "metadata": {},
   "outputs": [],
   "source": [
    "from calculator import math"
   ]
  },
  {
   "cell_type": "code",
   "execution_count": 2,
   "metadata": {},
   "outputs": [
    {
     "data": {
      "text/plain": [
       "5"
      ]
     },
     "execution_count": 2,
     "metadata": {},
     "output_type": "execute_result"
    }
   ],
   "source": [
    "math().add(2,3)"
   ]
  },
  {
   "cell_type": "code",
   "execution_count": 7,
   "metadata": {},
   "outputs": [
    {
     "name": "stdout",
     "output_type": "stream",
     "text": [
      "5\n",
      "* \n",
      "* * \n",
      "* * * \n",
      "* * * * \n",
      "* * * * * \n"
     ]
    }
   ],
   "source": [
    "n = int(input())\n",
    "for i in range(0,n): # how many lines we need to print\n",
    "    for j in range(-1,i): # how many *'s we need to print in single line\n",
    "        print('* ',end=\"\")\n",
    "    print()"
   ]
  },
  {
   "cell_type": "code",
   "execution_count": 8,
   "metadata": {},
   "outputs": [
    {
     "name": "stdout",
     "output_type": "stream",
     "text": [
      "5\n",
      "* * * * * \n",
      "* * * * \n",
      "* * * \n",
      "* * \n",
      "* \n"
     ]
    }
   ],
   "source": [
    "n = int(input())\n",
    "for i in range(0,n):\n",
    "    for j in range(i,n):\n",
    "        print('* ',end=\"\")\n",
    "    print()"
   ]
  },
  {
   "cell_type": "code",
   "execution_count": 11,
   "metadata": {},
   "outputs": [
    {
     "name": "stdout",
     "output_type": "stream",
     "text": [
      "5\n",
      "A \n",
      "A B \n",
      "A B C \n",
      "A B C D \n",
      "A B C D E \n"
     ]
    }
   ],
   "source": [
    "n = int(input())\n",
    "a = 65\n",
    "for i in range(1,n+1):\n",
    "    for j in range(0,i):\n",
    "        print(chr(a+j),end=' ')\n",
    "    print()"
   ]
  },
  {
   "cell_type": "code",
   "execution_count": 12,
   "metadata": {},
   "outputs": [
    {
     "name": "stdout",
     "output_type": "stream",
     "text": [
      "5\n",
      "1 \n",
      "1 2 \n",
      "1 2 3 \n",
      "1 2 3 4 \n",
      "1 2 3 4 5 \n"
     ]
    }
   ],
   "source": [
    "n = int(input())\n",
    "for i in range(2,n+2):\n",
    "    for j in range(1,i):\n",
    "        print(j,end=' ')\n",
    "    print()"
   ]
  },
  {
   "cell_type": "code",
   "execution_count": null,
   "metadata": {},
   "outputs": [],
   "source": []
  }
 ],
 "metadata": {
  "kernelspec": {
   "display_name": "Python 3",
   "language": "python",
   "name": "python3"
  },
  "language_info": {
   "codemirror_mode": {
    "name": "ipython",
    "version": 3
   },
   "file_extension": ".py",
   "mimetype": "text/x-python",
   "name": "python",
   "nbconvert_exporter": "python",
   "pygments_lexer": "ipython3",
   "version": "3.7.6"
  }
 },
 "nbformat": 4,
 "nbformat_minor": 4
}
